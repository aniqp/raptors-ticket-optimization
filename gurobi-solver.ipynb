{
 "cells": [
  {
   "cell_type": "code",
   "execution_count": 1,
   "metadata": {},
   "outputs": [],
   "source": [
    "# Gurobi Solving\n",
    "import gurobipy as gp\n",
    "from gurobipy import GRB\n",
    "import pandas as pd"
   ]
  },
  {
   "cell_type": "code",
   "execution_count": 2,
   "metadata": {},
   "outputs": [
    {
     "data": {
      "text/html": [
       "<div>\n",
       "<style scoped>\n",
       "    .dataframe tbody tr th:only-of-type {\n",
       "        vertical-align: middle;\n",
       "    }\n",
       "\n",
       "    .dataframe tbody tr th {\n",
       "        vertical-align: top;\n",
       "    }\n",
       "\n",
       "    .dataframe thead th {\n",
       "        text-align: right;\n",
       "    }\n",
       "</style>\n",
       "<table border=\"1\" class=\"dataframe\">\n",
       "  <thead>\n",
       "    <tr style=\"text-align: right;\">\n",
       "      <th></th>\n",
       "      <th>Short Form Group</th>\n",
       "      <th>Group (FSS | Level | Bucket)</th>\n",
       "      <th>y_int</th>\n",
       "      <th>slope</th>\n",
       "      <th>adjusted_slope</th>\n",
       "      <th>demand_function</th>\n",
       "    </tr>\n",
       "  </thead>\n",
       "  <tbody>\n",
       "    <tr>\n",
       "      <th>0</th>\n",
       "      <td>0-100-EW-1</td>\n",
       "      <td>0 | 100s (East and West) | 1</td>\n",
       "      <td>3100</td>\n",
       "      <td>-0.390801</td>\n",
       "      <td>-0.390801</td>\n",
       "      <td>3100.0 - 0.391p</td>\n",
       "    </tr>\n",
       "    <tr>\n",
       "      <th>1</th>\n",
       "      <td>0-100-EW-2</td>\n",
       "      <td>0 | 100s (East and West) | 2</td>\n",
       "      <td>3100</td>\n",
       "      <td>-0.839589</td>\n",
       "      <td>-0.839589</td>\n",
       "      <td>3100.0 - 0.84p</td>\n",
       "    </tr>\n",
       "    <tr>\n",
       "      <th>2</th>\n",
       "      <td>0-100-EW-3</td>\n",
       "      <td>0 | 100s (East and West) | 3</td>\n",
       "      <td>3100</td>\n",
       "      <td>-1.144578</td>\n",
       "      <td>-1.144578</td>\n",
       "      <td>3100.0 - 1.145p</td>\n",
       "    </tr>\n",
       "    <tr>\n",
       "      <th>3</th>\n",
       "      <td>0-100-EW-4</td>\n",
       "      <td>0 | 100s (East and West) | 4</td>\n",
       "      <td>3100</td>\n",
       "      <td>-1.691610</td>\n",
       "      <td>-1.691610</td>\n",
       "      <td>3100.0 - 1.692p</td>\n",
       "    </tr>\n",
       "    <tr>\n",
       "      <th>4</th>\n",
       "      <td>0-100-EW-5</td>\n",
       "      <td>0 | 100s (East and West) | 5</td>\n",
       "      <td>3100</td>\n",
       "      <td>-2.753346</td>\n",
       "      <td>-2.753346</td>\n",
       "      <td>3100.0 - 2.753p</td>\n",
       "    </tr>\n",
       "  </tbody>\n",
       "</table>\n",
       "</div>"
      ],
      "text/plain": [
       "  Short Form Group  Group (FSS | Level | Bucket)  y_int     slope  \\\n",
       "0       0-100-EW-1  0 | 100s (East and West) | 1   3100 -0.390801   \n",
       "1       0-100-EW-2  0 | 100s (East and West) | 2   3100 -0.839589   \n",
       "2       0-100-EW-3  0 | 100s (East and West) | 3   3100 -1.144578   \n",
       "3       0-100-EW-4  0 | 100s (East and West) | 4   3100 -1.691610   \n",
       "4       0-100-EW-5  0 | 100s (East and West) | 5   3100 -2.753346   \n",
       "\n",
       "   adjusted_slope  demand_function  \n",
       "0       -0.390801  3100.0 - 0.391p  \n",
       "1       -0.839589   3100.0 - 0.84p  \n",
       "2       -1.144578  3100.0 - 1.145p  \n",
       "3       -1.691610  3100.0 - 1.692p  \n",
       "4       -2.753346  3100.0 - 2.753p  "
      ]
     },
     "execution_count": 2,
     "metadata": {},
     "output_type": "execute_result"
    }
   ],
   "source": [
    "df = pd.read_csv('msci_332_group_slopes.csv')\n",
    "df.head()"
   ]
  },
  {
   "cell_type": "code",
   "execution_count": 3,
   "metadata": {},
   "outputs": [],
   "source": [
    "df['y_int'] = df['y_int'].astype(int)\n",
    "df['slope'] = df['adjusted_slope'].astype(int)"
   ]
  },
  {
   "cell_type": "code",
   "execution_count": 4,
   "metadata": {},
   "outputs": [],
   "source": [
    "group_yint = {row['Short Form Group']: row['y_int'] for index, row in df.iterrows()}\n",
    "group_slope = {row['Short Form Group']: row['adjusted_slope'] for index, row in df.iterrows()}"
   ]
  },
  {
   "cell_type": "code",
   "execution_count": 5,
   "metadata": {},
   "outputs": [
    {
     "data": {
      "text/plain": [
       "Short Form Group                 object\n",
       "Group (FSS | Level | Bucket)     object\n",
       "y_int                             int32\n",
       "slope                             int32\n",
       "adjusted_slope                  float64\n",
       "demand_function                  object\n",
       "dtype: object"
      ]
     },
     "execution_count": 5,
     "metadata": {},
     "output_type": "execute_result"
    }
   ],
   "source": [
    "df.dtypes"
   ]
  },
  {
   "cell_type": "code",
   "execution_count": 6,
   "metadata": {},
   "outputs": [],
   "source": [
    "groups = list(df['Short Form Group'].values)\n",
    "TOTAL_SEATS = 19800"
   ]
  },
  {
   "cell_type": "code",
   "execution_count": 7,
   "metadata": {},
   "outputs": [
    {
     "name": "stdout",
     "output_type": "stream",
     "text": [
      "Set parameter Username\n",
      "Academic license - for non-commercial use only - expires 2024-12-09\n"
     ]
    }
   ],
   "source": [
    "m = gp.Model(\"raptors-tickets-price-optimization\")"
   ]
  },
  {
   "cell_type": "code",
   "execution_count": 8,
   "metadata": {},
   "outputs": [],
   "source": [
    "p = m.addVars(groups, name = \"p\", lb=0)\n",
    "d = {row['Short Form Group']: (row['y_int'] + row['slope'] * p[row['Short Form Group']]) for index, row in df.iterrows()}\n",
    "# demand_functions = {group: lambda x, g=group: df.loc[g, 'y_int'] + df.loc[g, 'adjusted_slope'] * x for group in groups}\n",
    "# demand_functions"
   ]
  },
  {
   "cell_type": "code",
   "execution_count": 9,
   "metadata": {},
   "outputs": [
    {
     "data": {
      "text/plain": [
       "<gurobi.Model Continuous instance raptors-tickets-price-optimization: 0 constrs, 50 vars, Parameter changes: Username=(user-defined)>"
      ]
     },
     "execution_count": 9,
     "metadata": {},
     "output_type": "execute_result"
    }
   ],
   "source": [
    "m.update()\n",
    "m"
   ]
  },
  {
   "cell_type": "code",
   "execution_count": 10,
   "metadata": {},
   "outputs": [
    {
     "data": {
      "text/plain": [
       "<gurobi.Model Continuous instance raptors-tickets-price-optimization: 0 constrs, 50 vars, Parameter changes: Username=(user-defined)>"
      ]
     },
     "execution_count": 10,
     "metadata": {},
     "output_type": "execute_result"
    }
   ],
   "source": [
    "m.setObjective(sum((group_yint[group] - group_slope[group]*(p[group])) * p[group] for group in groups), GRB.MAXIMIZE)\n",
    "m.update()\n",
    "m"
   ]
  },
  {
   "cell_type": "code",
   "execution_count": 11,
   "metadata": {},
   "outputs": [
    {
     "data": {
      "text/plain": [
       "<gurobi.Model Continuous instance raptors-tickets-price-optimization: 50 constrs, 50 vars, Parameter changes: Username=(user-defined)>"
      ]
     },
     "execution_count": 11,
     "metadata": {},
     "output_type": "execute_result"
    }
   ],
   "source": [
    "m.addConstrs((p[group] <= group_yint[group] / group_slope[group]) for group in groups)\n",
    "m.update()\n",
    "m"
   ]
  },
  {
   "cell_type": "code",
   "execution_count": 12,
   "metadata": {},
   "outputs": [
    {
     "data": {
      "text/plain": [
       "<gurobi.Model Continuous instance raptors-tickets-price-optimization: 50 constrs, 50 vars, Parameter changes: Username=(user-defined)>"
      ]
     },
     "execution_count": 12,
     "metadata": {},
     "output_type": "execute_result"
    }
   ],
   "source": [
    "m"
   ]
  },
  {
   "cell_type": "code",
   "execution_count": 15,
   "metadata": {},
   "outputs": [
    {
     "name": "stdout",
     "output_type": "stream",
     "text": [
      "Gurobi Optimizer version 11.0.0 build v11.0.0rc2 (win64 - Windows 11.0 (22621.2))\n",
      "\n",
      "CPU model: AMD Ryzen 7 4800HS with Radeon Graphics, instruction set [SSE2|AVX|AVX2]\n",
      "Thread count: 8 physical cores, 16 logical processors, using up to 16 threads\n",
      "\n",
      "Optimize a model with 50 rows, 50 columns and 50 nonzeros\n",
      "Model fingerprint: 0x5967baf4\n",
      "Model has 50 quadratic objective terms\n",
      "Coefficient statistics:\n",
      "  Matrix range     [1e+00, 1e+00]\n",
      "  Objective range  [4e+02, 6e+03]\n",
      "  QObjective range [3e-03, 2e+01]\n",
      "  Bounds range     [0e+00, 0e+00]\n",
      "  RHS range        [6e+02, 2e+05]\n",
      "Presolve time: 0.01s\n",
      "\n",
      "Barrier solved model in 0 iterations and 0.01 seconds (0.00 work units)\n",
      "Model is infeasible or unbounded\n"
     ]
    }
   ],
   "source": [
    "m.Params.NonConvex = 2\n",
    "m.optimize()"
   ]
  },
  {
   "cell_type": "code",
   "execution_count": 14,
   "metadata": {},
   "outputs": [
    {
     "name": "stdout",
     "output_type": "stream",
     "text": [
      "<gurobi.Var p[0-100-EW-1]>\n",
      "<gurobi.Var p[0-100-EW-2]>\n",
      "<gurobi.Var p[0-100-EW-3]>\n",
      "<gurobi.Var p[0-100-EW-4]>\n",
      "<gurobi.Var p[0-100-EW-5]>\n",
      "<gurobi.Var p[0-100-NS-1]>\n",
      "<gurobi.Var p[0-100-NS-2]>\n",
      "<gurobi.Var p[0-100-NS-3]>\n",
      "<gurobi.Var p[0-100-NS-4]>\n",
      "<gurobi.Var p[0-100-NS-5]>\n",
      "<gurobi.Var p[0-300-EW-1]>\n",
      "<gurobi.Var p[0-300-EW-2]>\n",
      "<gurobi.Var p[0-300-EW-3]>\n",
      "<gurobi.Var p[0-300-EW-4]>\n",
      "<gurobi.Var p[0-300-EW-5]>\n",
      "<gurobi.Var p[0-300-NS-1]>\n",
      "<gurobi.Var p[0-300-NS-2]>\n",
      "<gurobi.Var p[0-300-NS-3]>\n",
      "<gurobi.Var p[0-300-NS-4]>\n",
      "<gurobi.Var p[0-300-NS-5]>\n",
      "<gurobi.Var p[0-courtside-1]>\n",
      "<gurobi.Var p[0-courtside-2]>\n",
      "<gurobi.Var p[0-courtside-3]>\n",
      "<gurobi.Var p[0-courtside-4]>\n",
      "<gurobi.Var p[0-courtside-5]>\n",
      "<gurobi.Var p[1-100-EW-1]>\n",
      "<gurobi.Var p[1-100-EW-2]>\n",
      "<gurobi.Var p[1-100-EW-3]>\n",
      "<gurobi.Var p[1-100-EW-4]>\n",
      "<gurobi.Var p[1-100-EW-5]>\n",
      "<gurobi.Var p[1-100-NS-1]>\n",
      "<gurobi.Var p[1-100-NS-2]>\n",
      "<gurobi.Var p[1-100-NS-3]>\n",
      "<gurobi.Var p[1-100-NS-4]>\n",
      "<gurobi.Var p[1-100-NS-5]>\n",
      "<gurobi.Var p[1-300-EW-1]>\n",
      "<gurobi.Var p[1-300-EW-2]>\n",
      "<gurobi.Var p[1-300-EW-3]>\n",
      "<gurobi.Var p[1-300-EW-4]>\n",
      "<gurobi.Var p[1-300-EW-5]>\n",
      "<gurobi.Var p[1-300-NS-1]>\n",
      "<gurobi.Var p[1-300-NS-2]>\n",
      "<gurobi.Var p[1-300-NS-3]>\n",
      "<gurobi.Var p[1-300-NS-4]>\n",
      "<gurobi.Var p[1-300-NS-5]>\n",
      "<gurobi.Var p[1-courtside-1]>\n",
      "<gurobi.Var p[1-courtside-2]>\n",
      "<gurobi.Var p[1-courtside-3]>\n",
      "<gurobi.Var p[1-courtside-4]>\n",
      "<gurobi.Var p[1-courtside-5]>\n"
     ]
    }
   ],
   "source": [
    "constrs = m.getVars()\n",
    "for constr in constrs:\n",
    "    print(constr)"
   ]
  },
  {
   "cell_type": "code",
   "execution_count": null,
   "metadata": {},
   "outputs": [],
   "source": []
  }
 ],
 "metadata": {
  "kernelspec": {
   "display_name": "venv",
   "language": "python",
   "name": "python3"
  },
  "language_info": {
   "codemirror_mode": {
    "name": "ipython",
    "version": 3
   },
   "file_extension": ".py",
   "mimetype": "text/x-python",
   "name": "python",
   "nbconvert_exporter": "python",
   "pygments_lexer": "ipython3",
   "version": "3.8.0"
  }
 },
 "nbformat": 4,
 "nbformat_minor": 2
}
